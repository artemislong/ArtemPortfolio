{
  "nbformat": 4,
  "nbformat_minor": 0,
  "metadata": {
    "colab": {
      "provenance": [],
      "authorship_tag": "ABX9TyPOjKu/DpzjE6ZzXQ1/fJwy",
      "include_colab_link": true
    },
    "kernelspec": {
      "name": "python3",
      "display_name": "Python 3"
    },
    "language_info": {
      "name": "python"
    }
  },
  "cells": [
    {
      "cell_type": "markdown",
      "metadata": {
        "id": "view-in-github",
        "colab_type": "text"
      },
      "source": [
        "<a href=\"https://colab.research.google.com/github/artemislong/ArtemPortfolio/blob/main/Quiz_11.ipynb\" target=\"_parent\"><img src=\"https://colab.research.google.com/assets/colab-badge.svg\" alt=\"Open In Colab\"/></a>"
      ]
    },
    {
      "cell_type": "code",
      "execution_count": null,
      "metadata": {
        "id": "H6pcEQ09IXax"
      },
      "outputs": [],
      "source": [
        "# QUESTION 1\n",
        "import math"
      ]
    },
    {
      "cell_type": "code",
      "source": [
        "critics = [\n",
        "    [3, 7, 4, 9, 9, 7],\n",
        "    [7, 5, 5, 3, 8, 8],\n",
        "    [7, 5, 5, 0, 8, 4],\n",
        "    [5, 6, 8, 5, 9, 8],\n",
        "    [5, 8, 8, 8, 10, 9],\n",
        "    [7, 7, 8, 4, 7, 8]\n",
        "]\n",
        "cnames = [\"Denby\", \"McCarthy\", \"Morgenstern\", \"Puig\", \"Travers\", \"Turan\"]"
      ],
      "metadata": {
        "id": "bDZ5EBrLIaPN"
      },
      "execution_count": null,
      "outputs": []
    },
    {
      "cell_type": "code",
      "source": [
        "# Euclidean distance\n",
        "def eucDist(u,v):\n",
        "  # ignore movies that user (u) didn't rate\n",
        "  square_diff_sum = 0\n",
        "  for x, y in zip(u,v):\n",
        "    if x!=0:\n",
        "      square_diff_sum += float((x - y) ** 2)\n",
        "  return math.sqrt(square_diff_sum)\n",
        "# test w user2\n",
        "user2 = [0,6,9,0,0,6]\n",
        "for i in range(0,6):\n",
        "  print(eucDist(user2, critics[i]))"
      ],
      "metadata": {
        "colab": {
          "base_uri": "https://localhost:8080/"
        },
        "id": "dcS_cA2TJQlM",
        "outputId": "c9b5edfc-ef0b-4de5-acf1-6f56d7deae23"
      },
      "execution_count": null,
      "outputs": [
        {
          "output_type": "stream",
          "name": "stdout",
          "text": [
            "5.196152422706632\n",
            "4.58257569495584\n",
            "4.58257569495584\n",
            "2.23606797749979\n",
            "3.7416573867739413\n",
            "2.449489742783178\n"
          ]
        }
      ]
    },
    {
      "cell_type": "code",
      "source": [
        "# Q1.1\n",
        "user3 = [6, 0, 0, 7, 9, 0]\n",
        "print(\"Distances between:\")\n",
        "for i in range(len(critics)):\n",
        "  print(\"User3 and\",cnames[i],\"is\",round(eucDist(user3, critics[i]),1))"
      ],
      "metadata": {
        "colab": {
          "base_uri": "https://localhost:8080/"
        },
        "id": "m-rpawuEMiQy",
        "outputId": "aa4dfadc-5f67-4198-ca88-ebd9565e3fe7"
      },
      "execution_count": null,
      "outputs": [
        {
          "output_type": "stream",
          "name": "stdout",
          "text": [
            "Distances between:\n",
            "User3 and Denby is 3.6\n",
            "User3 and McCarthy is 4.2\n",
            "User3 and Morgenstern is 7.1\n",
            "User3 and Puig is 2.2\n",
            "User3 and Travers is 1.7\n",
            "User3 and Turan is 3.7\n"
          ]
        }
      ]
    },
    {
      "cell_type": "code",
      "source": [
        "# Q1.2\n",
        "def sim(u,v):\n",
        "  return 1.0/(1.0 + eucDist(u,v))\n",
        "# test w user2\n",
        "# for i in range(0,6):\n",
        "#   print(sim(user2, critics[i]))"
      ],
      "metadata": {
        "id": "K9xqocLwOYwQ"
      },
      "execution_count": null,
      "outputs": []
    },
    {
      "cell_type": "code",
      "source": [
        "print(\"Similarity based on Euclidean distance:\")\n",
        "for i in range(len(critics)):\n",
        "  print(\"User3 and\",cnames[i],\"is\",round(sim(user3, critics[i]),2))"
      ],
      "metadata": {
        "colab": {
          "base_uri": "https://localhost:8080/"
        },
        "id": "yCmPMUzJOwoX",
        "outputId": "7127efa0-6960-41ab-e8c2-3da0f23e456f"
      },
      "execution_count": null,
      "outputs": [
        {
          "output_type": "stream",
          "name": "stdout",
          "text": [
            "Similarity based on Euclidean distance:\n",
            "User3 and Denby is 0.22\n",
            "User3 and McCarthy is 0.19\n",
            "User3 and Morgenstern is 0.12\n",
            "User3 and Puig is 0.31\n",
            "User3 and Travers is 0.37\n",
            "User3 and Turan is 0.21\n"
          ]
        }
      ]
    },
    {
      "cell_type": "markdown",
      "source": [
        "### QUESTION 2"
      ],
      "metadata": {
        "id": "jU4ELGqBULRV"
      }
    },
    {
      "cell_type": "code",
      "source": [
        "movie_dict = {\n",
        "    47: \"Seven (a.k.a. Se7en) (1995)\",\n",
        "    260: \"Star Wars: Episode IV - A New Hope (1977)\",\n",
        "    296: \"Pulp Fiction (1994)\",\n",
        "    318: \"Shawshank Redemption, The (1994)\",\n",
        "    356: \"Forrest Gump (1994)\",\n",
        "    480: \"Jurassic Park (1993)\",\n",
        "    780: \"Independence Day (a.k.a. ID4) (1996)\",\n",
        "    1036: \"Die Hard (1988)\",\n",
        "    1196: \"Star Wars: Episode V - The Empire Strikes Back (1980)\",\n",
        "    1210: \"Star Wars: Episode VI - Return of the Jedi (1983)\",\n",
        "    1265: \"Groundhog Day (1993)\",\n",
        "    1270: \"Back to the Future (1985)\",\n",
        "    2571: \"Matrix, The (1999)\",\n",
        "    4896: \"Harry Potter and the Sorcerer's Stone (a.k.a. Harry Potter and the Philosopher's Stone) (2001)\",\n",
        "    4993: \"Lord of the Rings: The Fellowship of the Ring, The (2001)\",\n",
        "    6539: \"Pirates of the Caribbean: The Curse of the Black Pearl (2003)\",\n",
        "    6874: \"Kill Bill: Vol. 1 (2003)\",\n",
        "    33794: \"Batman Begins (2005)\"\n",
        "}\n",
        "\n",
        "\n"
      ],
      "metadata": {
        "id": "TnoN-DOOUNy4"
      },
      "execution_count": null,
      "outputs": []
    },
    {
      "cell_type": "code",
      "source": [
        "# read ratings data\n",
        "import pandas as pd\n",
        "import numpy as np\n",
        "\n",
        "# Load CSV into DataFrame\n",
        "allratingsdf = pd.read_csv(\"ratings.csv\")\n",
        "allratingsdf = allratingsdf.drop('timestamp', axis=1) # remove timestamp column\n",
        "# only keep movies of interest\n",
        "movieKeys = list(movie_dict.keys())\n",
        "ratingsdf = allratingsdf[allratingsdf['movieId'].isin(movieKeys)]"
      ],
      "metadata": {
        "colab": {
          "base_uri": "https://localhost:8080/"
        },
        "id": "8TXi_O6JUnkH",
        "outputId": "815f3bd2-2e06-437b-deb0-973d46536436"
      },
      "execution_count": null,
      "outputs": [
        {
          "output_type": "stream",
          "name": "stdout",
          "text": [
            "        userId  movieId  rating\n",
            "3            1       47     5.0\n",
            "15           1      260     5.0\n",
            "16           1      296     3.0\n",
            "20           1      356     4.0\n",
            "26           1      480     4.0\n",
            "...        ...      ...     ...\n",
            "99865      610     4896     4.0\n",
            "99875      610     4993     5.0\n",
            "99968      610     6539     4.0\n",
            "99993      610     6874     4.5\n",
            "100134     610    33794     4.0\n",
            "\n",
            "[3692 rows x 3 columns]\n",
            "3692\n"
          ]
        }
      ]
    },
    {
      "cell_type": "code",
      "source": [
        "# creating a dictionary of users and movieIDs\n",
        "user_dict = {}\n",
        "critics = []\n",
        "noncritics = []\n",
        "# get number of movies needed to be a critic/noncritic\n",
        "critic_threshold = float(len(movieKeys))\n",
        "noncritic_threshold = 2 * critic_threshold / 3\n",
        "print(critic_threshold, noncritic_threshold)\n",
        "for user_id, group in ratingsdf.groupby('userId'):\n",
        "    movie_ids = list(group['movieId'].values)\n",
        "    ratings = list(group['rating'].values)\n",
        "    user_dict[user_id] = [movie_ids, ratings]\n",
        "    # find critics and noncritics\n",
        "    number_movies = len(movie_ids)\n",
        "    if number_movies == critic_threshold:\n",
        "      critics.append(user_id)\n",
        "    elif number_movies >= noncritic_threshold:\n",
        "      noncritics.append(user_id)\n",
        "# Display the dictionary\n",
        "# for i in noncritics:\n",
        "#   print(np.shape(np.array(user_dict[i])))\n",
        "print(len(user_dict.keys()))\n",
        "print(critics)\n",
        "print(noncritics)"
      ],
      "metadata": {
        "colab": {
          "base_uri": "https://localhost:8080/"
        },
        "id": "mQHIYWb_WJ1S",
        "outputId": "f36c24d4-1ff5-4a70-a8f5-50ab53b05f58"
      },
      "execution_count": null,
      "outputs": [
        {
          "output_type": "stream",
          "name": "stdout",
          "text": [
            "18.0 12.0\n",
            "552\n",
            "[63, 68, 177, 182, 232, 249, 274, 288, 298, 307, 318, 380, 387, 414, 474, 480, 483, 590, 599, 610]\n",
            "[15, 17, 18, 21, 28, 42, 45, 62, 64, 66, 82, 86, 91, 103, 105, 122, 129, 132, 135, 140, 141, 160, 166, 167, 187, 198, 200, 202, 212, 217, 219, 220, 226, 239, 247, 254, 279, 292, 304, 305, 313, 328, 330, 332, 334, 354, 357, 376, 381, 391, 425, 428, 432, 434, 438, 448, 453, 462, 464, 469, 477, 489, 514, 517, 522, 525, 534, 555, 560, 561, 570, 573, 580, 596, 600, 606, 608]\n"
          ]
        }
      ]
    },
    {
      "cell_type": "code",
      "source": [
        "# Question 2.1 find critics\n",
        "print(\"There are\",  len(critics), \"critics.\")"
      ],
      "metadata": {
        "colab": {
          "base_uri": "https://localhost:8080/"
        },
        "id": "mT3LE8wvcrWf",
        "outputId": "e833efff-0906-4e98-cd8a-70e130a30916"
      },
      "execution_count": null,
      "outputs": [
        {
          "output_type": "stream",
          "name": "stdout",
          "text": [
            "There are 20 critics.\n"
          ]
        }
      ]
    },
    {
      "cell_type": "code",
      "source": [
        "# Question 2.2 find non-critics who have reviewed at least two-thirds (i.e. 12/18)\n",
        "print(\"There are\",  len(noncritics), \"non-critics who have rated most of the movies.\")"
      ],
      "metadata": {
        "colab": {
          "base_uri": "https://localhost:8080/"
        },
        "id": "eFho_Ft9cQXM",
        "outputId": "be006df0-3ca0-468f-aec4-189a5a0d1c24"
      },
      "execution_count": null,
      "outputs": [
        {
          "output_type": "stream",
          "name": "stdout",
          "text": [
            "There are 77 non-critics who have rated most of the movies.\n"
          ]
        }
      ]
    },
    {
      "cell_type": "code",
      "source": [
        "# Question 2.3.a Compute the similarity to each critic and find the critic that is most similar.\n",
        "# Euclidean distance\n",
        "def eucDist(u,v):\n",
        "  # u is user, v is critic\n",
        "  # u,v are 2D matrixes with movieIds on 1st row and ratings on 2nd row\n",
        "  # dictionary of ratings by critic\n",
        "  critic = {row[0]: row[1] for row in zip(*v)}\n",
        "  # computing square difference sum of ratings of movies rated by both\n",
        "  square_diff_sum = 0\n",
        "  for i in range(len(u[0])):\n",
        "    movieID = u[0][i]\n",
        "    urating = u[1][i]\n",
        "    vrating = critic[movieID]\n",
        "    square_diff_sum += float((urating - vrating) ** 2)\n",
        "  return math.sqrt(square_diff_sum)\n",
        "\n",
        "# Similarity score\n",
        "def sim(u,v):\n",
        "  # u is user, v is critic\n",
        "  # u,v are 2D matrixes with movieIds on 1st row and ratings on 2nd row\n",
        "  return 1.0/(1.0 + eucDist(u,v))\n",
        "\n",
        "# recommend movie with highest rating by critic that wasnt reviewed by user\n",
        "def recommendMovie(u,v):\n",
        "  # u is user, v is critic\n",
        "  # u,v are 2D matrixes with movieIds on 1st row and ratings on 2nd row\n",
        "  most_rated = (0,0) # movieId, rating\n",
        "  # going over every movie rated by critic\n",
        "  for i in range(len(v[0])):\n",
        "    if v[0][i] not in u[0]: # if movie was not reviewed by user\n",
        "      if v[1][i] > most_rated[1]: # if rating > curr highest rating, update\n",
        "        most_rated = (v[0][i],v[1][i])\n",
        "  return most_rated\n",
        "\n",
        "# finding similar critics and movies\n",
        "for i in noncritics:\n",
        "  most_similar = (0,0,0)\n",
        "  # find most similar critic\n",
        "  for j in critics:\n",
        "    similarity = sim(user_dict[i],user_dict[j])\n",
        "    if similarity > most_similar[-1]:\n",
        "      most_similar = (i,j,similarity)\n",
        "  # Recommend a movie\n",
        "  recc = recommendMovie(user_dict[most_similar[0]],user_dict[most_similar[1]])\n",
        "  movie_title = movie_dict[recc[0]]\n",
        "  # print(most_similar)\n",
        "  print(f\"User {most_similar[0]} is most similar to critic {most_similar[1]} and should watch {movie_title}\")"
      ],
      "metadata": {
        "colab": {
          "base_uri": "https://localhost:8080/",
          "height": 0
        },
        "id": "yr5uhUQudO95",
        "outputId": "fbfa3f16-7681-4555-af1e-aa887c93067b"
      },
      "execution_count": 128,
      "outputs": [
        {
          "output_type": "stream",
          "name": "stdout",
          "text": [
            "User 15 is most similar to critic 590 and should watch Jurassic Park (1993)\n",
            "User 17 is most similar to critic 414 and should watch Pirates of the Caribbean: The Curse of the Black Pearl (2003)\n",
            "User 18 is most similar to critic 232 and should watch Groundhog Day (1993)\n",
            "User 21 is most similar to critic 480 and should watch Shawshank Redemption, The (1994)\n",
            "User 28 is most similar to critic 387 and should watch Groundhog Day (1993)\n",
            "User 42 is most similar to critic 483 and should watch Kill Bill: Vol. 1 (2003)\n",
            "User 45 is most similar to critic 590 and should watch Shawshank Redemption, The (1994)\n",
            "User 62 is most similar to critic 249 and should watch Jurassic Park (1993)\n",
            "User 64 is most similar to critic 318 and should watch Back to the Future (1985)\n",
            "User 66 is most similar to critic 274 and should watch Batman Begins (2005)\n",
            "User 82 is most similar to critic 274 and should watch Pulp Fiction (1994)\n",
            "User 86 is most similar to critic 232 and should watch Pulp Fiction (1994)\n",
            "User 91 is most similar to critic 610 and should watch Batman Begins (2005)\n",
            "User 103 is most similar to critic 274 and should watch Groundhog Day (1993)\n",
            "User 105 is most similar to critic 232 and should watch Star Wars: Episode VI - Return of the Jedi (1983)\n",
            "User 122 is most similar to critic 414 and should watch Die Hard (1988)\n",
            "User 129 is most similar to critic 483 and should watch Pulp Fiction (1994)\n",
            "User 132 is most similar to critic 182 and should watch Groundhog Day (1993)\n",
            "User 135 is most similar to critic 249 and should watch Forrest Gump (1994)\n",
            "User 140 is most similar to critic 318 and should watch Batman Begins (2005)\n",
            "User 141 is most similar to critic 318 and should watch Die Hard (1988)\n",
            "User 160 is most similar to critic 63 and should watch Shawshank Redemption, The (1994)\n",
            "User 166 is most similar to critic 232 and should watch Pirates of the Caribbean: The Curse of the Black Pearl (2003)\n",
            "User 167 is most similar to critic 474 and should watch Back to the Future (1985)\n",
            "User 187 is most similar to critic 298 and should watch Jurassic Park (1993)\n",
            "User 198 is most similar to critic 232 and should watch Die Hard (1988)\n",
            "User 200 is most similar to critic 483 and should watch Groundhog Day (1993)\n",
            "User 202 is most similar to critic 483 and should watch Kill Bill: Vol. 1 (2003)\n",
            "User 212 is most similar to critic 307 and should watch Seven (a.k.a. Se7en) (1995)\n",
            "User 217 is most similar to critic 68 and should watch Harry Potter and the Sorcerer's Stone (a.k.a. Harry Potter and the Philosopher's Stone) (2001)\n",
            "User 219 is most similar to critic 590 and should watch Forrest Gump (1994)\n",
            "User 220 is most similar to critic 483 and should watch Lord of the Rings: The Fellowship of the Ring, The (2001)\n",
            "User 226 is most similar to critic 232 and should watch Shawshank Redemption, The (1994)\n",
            "User 239 is most similar to critic 249 and should watch Back to the Future (1985)\n",
            "User 247 is most similar to critic 590 and should watch Independence Day (a.k.a. ID4) (1996)\n",
            "User 254 is most similar to critic 483 and should watch Groundhog Day (1993)\n",
            "User 279 is most similar to critic 232 and should watch Seven (a.k.a. Se7en) (1995)\n",
            "User 292 is most similar to critic 590 and should watch Groundhog Day (1993)\n",
            "User 304 is most similar to critic 590 and should watch Lord of the Rings: The Fellowship of the Ring, The (2001)\n",
            "User 305 is most similar to critic 414 and should watch Pirates of the Caribbean: The Curse of the Black Pearl (2003)\n",
            "User 313 is most similar to critic 318 and should watch Forrest Gump (1994)\n",
            "User 328 is most similar to critic 298 and should watch Lord of the Rings: The Fellowship of the Ring, The (2001)\n",
            "User 330 is most similar to critic 483 and should watch Pirates of the Caribbean: The Curse of the Black Pearl (2003)\n",
            "User 332 is most similar to critic 483 and should watch Star Wars: Episode IV - A New Hope (1977)\n",
            "User 334 is most similar to critic 298 and should watch Kill Bill: Vol. 1 (2003)\n",
            "User 354 is most similar to critic 274 and should watch Pirates of the Caribbean: The Curse of the Black Pearl (2003)\n",
            "User 357 is most similar to critic 249 and should watch Seven (a.k.a. Se7en) (1995)\n",
            "User 376 is most similar to critic 474 and should watch Shawshank Redemption, The (1994)\n",
            "User 381 is most similar to critic 298 and should watch Pulp Fiction (1994)\n",
            "User 391 is most similar to critic 288 and should watch Batman Begins (2005)\n",
            "User 425 is most similar to critic 318 and should watch Groundhog Day (1993)\n",
            "User 428 is most similar to critic 298 and should watch Seven (a.k.a. Se7en) (1995)\n",
            "User 432 is most similar to critic 307 and should watch Back to the Future (1985)\n",
            "User 434 is most similar to critic 380 and should watch Pirates of the Caribbean: The Curse of the Black Pearl (2003)\n",
            "User 438 is most similar to critic 232 and should watch Pulp Fiction (1994)\n",
            "User 448 is most similar to critic 63 and should watch Shawshank Redemption, The (1994)\n",
            "User 453 is most similar to critic 182 and should watch Harry Potter and the Sorcerer's Stone (a.k.a. Harry Potter and the Philosopher's Stone) (2001)\n",
            "User 462 is most similar to critic 307 and should watch Jurassic Park (1993)\n",
            "User 464 is most similar to critic 414 and should watch Back to the Future (1985)\n",
            "User 469 is most similar to critic 274 and should watch Kill Bill: Vol. 1 (2003)\n",
            "User 477 is most similar to critic 590 and should watch Harry Potter and the Sorcerer's Stone (a.k.a. Harry Potter and the Philosopher's Stone) (2001)\n",
            "User 489 is most similar to critic 298 and should watch Star Wars: Episode VI - Return of the Jedi (1983)\n",
            "User 514 is most similar to critic 480 and should watch Shawshank Redemption, The (1994)\n",
            "User 517 is most similar to critic 307 and should watch Pulp Fiction (1994)\n",
            "User 522 is most similar to critic 63 and should watch Seven (a.k.a. Se7en) (1995)\n",
            "User 525 is most similar to critic 274 and should watch Pulp Fiction (1994)\n",
            "User 534 is most similar to critic 590 and should watch Pulp Fiction (1994)\n",
            "User 555 is most similar to critic 249 and should watch Seven (a.k.a. Se7en) (1995)\n",
            "User 560 is most similar to critic 298 and should watch Jurassic Park (1993)\n",
            "User 561 is most similar to critic 249 and should watch Harry Potter and the Sorcerer's Stone (a.k.a. Harry Potter and the Philosopher's Stone) (2001)\n",
            "User 570 is most similar to critic 274 and should watch Pulp Fiction (1994)\n",
            "User 573 is most similar to critic 414 and should watch Groundhog Day (1993)\n",
            "User 580 is most similar to critic 483 and should watch Groundhog Day (1993)\n",
            "User 596 is most similar to critic 298 and should watch Pulp Fiction (1994)\n",
            "User 600 is most similar to critic 298 and should watch Pirates of the Caribbean: The Curse of the Black Pearl (2003)\n",
            "User 606 is most similar to critic 599 and should watch Die Hard (1988)\n",
            "User 608 is most similar to critic 387 and should watch Batman Begins (2005)\n"
          ]
        }
      ]
    }
  ]
}